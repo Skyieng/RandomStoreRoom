{
 "cells": [
  {
   "cell_type": "code",
   "execution_count": null,
   "metadata": {},
   "outputs": [],
   "source": [
    "import yt_dlp\n",
    "import os"
   ]
  },
  {
   "cell_type": "code",
   "execution_count": null,
   "metadata": {},
   "outputs": [],
   "source": [
    "# Video destination\n",
    "output_path = r\"C:\\Users\\C.eng\\IU\"\n",
    "\n",
    "# Replace the link(s) with your URL(s)\n",
    "playlist_url = \"https://youtube.com/playlist?list=PLp56RDi9hqhjJ8P5xa4yZggcNZzRbAJkC&si=wJEHGngwF0gjVzVC\"\n",
    "\n",
    "single_url = \"https://youtu.be/fkJgkjXf7B4?si=Rj7Ch3Ms0ZvcJvky\"\n",
    "\n",
    "multiple_url = [\n",
    "    \"https://youtu.be/L2sgIGG4iR0?si=MXMOqGUCIWBOCF6b\",\n",
    "    \"https://youtu.be/HWz4jQmK8t4?si=LeA5204FUfcD5K4Z\",\n",
    "    \"https://youtu.be/sOrlg5EK3Ss?si=b-8zO9r6D_CVx3bo\",\n",
    "    \"https://youtu.be/FXLRkKVOa-c?si=x3er0FLjAmjMDQAG\",\n",
    "    \"https://youtu.be/un67_CcrEsM?si=Xqv3bwURZ2G98G_U\",\n",
    "]\n",
    "\n",
    "if not os.path.exists(output_path):\n",
    "    os.makedirs(output_path)"
   ]
  },
  {
   "cell_type": "markdown",
   "metadata": {},
   "source": [
    "## Single URL"
   ]
  },
  {
   "cell_type": "code",
   "execution_count": null,
   "metadata": {},
   "outputs": [],
   "source": [
    "ydl_opts = {\n",
    "    'format': 'bestvideo[ext=mp4]+bestaudio[ext=mp4]/mp4+best[height<=480]',  # You can specify other options here\n",
    "    'merge_output_format': 'mp4',  # Merge the video and audio into an MP4 file\n",
    "    'outtmpl':  os.path.join(output_path, '%(title)s.%(ext)s'),  # Template for the output file names\n",
    "}\n",
    "\n",
    "with yt_dlp.YoutubeDL(ydl_opts) as ydl:\n",
    "    single_info = ydl.extract_info(single_url, download=True)\n",
    "    print(f\"Downloading: {single_info['title']}\")\n"
   ]
  },
  {
   "cell_type": "markdown",
   "metadata": {},
   "source": [
    "## Multiple URL"
   ]
  },
  {
   "cell_type": "code",
   "execution_count": null,
   "metadata": {},
   "outputs": [],
   "source": [
    "ydl_opts = {\n",
    "    'format': 'bestvideo[ext=mp4]+bestaudio[ext=mp4]/mp4+best[height<=480]',  # You can specify other options here\n",
    "    'merge_output_format': 'mp4',  # Merge the video and audio into an MP4 file\n",
    "    'outtmpl':  os.path.join(output_path', %(title)s.%(ext)s'),  # Template for the output file names\n",
    "}\n",
    "\n",
    "with yt_dlp.YoutubeDL(ydl_opts) as ydl:\n",
    "    for video_url in multiple_url:\n",
    "        video_info = ydl.extract_info(video_url, download=True)\n",
    "        print(f\"Downloading: {video_info['title']}\")\n"
   ]
  },
  {
   "cell_type": "markdown",
   "metadata": {},
   "source": [
    "## Playlist"
   ]
  },
  {
   "cell_type": "code",
   "execution_count": null,
   "metadata": {},
   "outputs": [],
   "source": [
    "ydl_opts = {\n",
    "    'format': 'bestvideo[ext=mp4]+bestaudio[ext=mp4]/mp4+best[height<=480]',  # You can specify other options here\n",
    "    'outtmpl':  os.path.join(output_path, '%(title)s.%(ext)s'),  # Template for the output file names\n",
    "}\n",
    "\n",
    "with yt_dlp.YoutubeDL(ydl_opts) as ydl:\n",
    "    playlist_url = \"https://youtube.com/playlist?list=PLp56RDi9hqhjJ8P5xa4yZggcNZzRbAJkC&si=wJEHGngwF0gjVzVC\"\n",
    "    playlist_info = ydl.extract_info(playlist_url, download=True)\n",
    "\n",
    "    print(f\"Downloading: {playlist_info['title']}\")\n",
    "    for video in playlist_info['entries']:\n",
    "        print(f\"Downloaded: {video['title']}\")"
   ]
  }
 ],
 "metadata": {
  "language_info": {
   "name": "python"
  }
 },
 "nbformat": 4,
 "nbformat_minor": 2
}
